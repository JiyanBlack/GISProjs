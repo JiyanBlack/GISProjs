{
 "cells": [
  {
   "cell_type": "code",
   "execution_count": 2,
   "metadata": {},
   "outputs": [],
   "source": [
    "import numpy as np \n",
    "from scipy.stats import norm \n",
    "import matplotlib.pyplot as plt \n",
    "import pandas as pd"
   ]
  },
  {
   "cell_type": "code",
   "execution_count": 14,
   "metadata": {},
   "outputs": [
    {
     "name": "stdout",
     "output_type": "stream",
     "text": [
      "table1\n",
      "table2\n",
      "table3\n",
      "table4\n",
      "table5\n",
      "table6\n",
      "table7\n"
     ]
    }
   ],
   "source": [
    "sumdf = pd.DataFrame()\n",
    "\n",
    "\n",
    "def addsum(fname):\n",
    "    print(fname)\n",
    "    df = pd.read_csv('./data/' + fname + '.csv')\n",
    "    df = df[:18]\n",
    "    sumdf[fname] = df['Obs']\n",
    "\n",
    "for i in range(1,8):\n",
    "    addsum('table' + str(i))"
   ]
  },
  {
   "cell_type": "code",
   "execution_count": null,
   "metadata": {},
   "outputs": [],
   "source": []
  },
  {
   "cell_type": "code",
   "execution_count": 49,
   "metadata": {},
   "outputs": [],
   "source": [
    "def createSample(array):\n",
    "    finalarray = np.array([])\n",
    "    for i in range(len(array)):\n",
    "        val = i + 0.5\n",
    "        curarray = np.full(int(array[i]), val)\n",
    "        finalarray = np.append(finalarray,curarray)\n",
    "    return finalarray"
   ]
  },
  {
   "cell_type": "code",
   "execution_count": 16,
   "metadata": {},
   "outputs": [],
   "source": [
    "sumdf['sums'] = 0\n",
    "\n",
    "for i in range(1,8):\n",
    "    sumdf['sums'] = sumdf['sums'] + sumdf['table' + str(i)]"
   ]
  },
  {
   "cell_type": "code",
   "execution_count": 40,
   "metadata": {},
   "outputs": [],
   "source": [
    "def get_mean_std(array):\n",
    "    data = createSample(array)\n",
    "    mean,std=norm.fit(data)\n",
    "    return mean,std"
   ]
  },
  {
   "cell_type": "code",
   "execution_count": 41,
   "metadata": {},
   "outputs": [
    {
     "data": {
      "text/plain": [
       "(10.94309751743709, 4.439888676947628)"
      ]
     },
     "execution_count": 41,
     "metadata": {},
     "output_type": "execute_result"
    }
   ],
   "source": [
    "mean,std = get_mean_std(sumdf['sums'])"
   ]
  },
  {
   "cell_type": "code",
   "execution_count": null,
   "metadata": {},
   "outputs": [],
   "source": [
    "scipy.stats.norm(0, 1)."
   ]
  },
  {
   "cell_type": "code",
   "execution_count": 52,
   "metadata": {},
   "outputs": [
    {
     "name": "stdout",
     "output_type": "stream",
     "text": [
      "table1\n",
      "table2\n",
      "table3\n",
      "table4\n",
      "table5\n",
      "table6\n",
      "table7\n"
     ]
    },
    {
     "data": {
      "text/plain": [
       "[(19.894723986321445, 8.969511528388619),\n",
       " (10.5426962777604, 4.388088918137733),\n",
       " (10.5426962777604, 4.388088918137733),\n",
       " (18.081982893203456, 6.940603083935171),\n",
       " (20.281735097297574, 7.326497483917212),\n",
       " (15.327986098869275, 6.521907938725135),\n",
       " (15.327986098869275, 6.521907938725135)]"
      ]
     },
     "execution_count": 52,
     "metadata": {},
     "output_type": "execute_result"
    }
   ],
   "source": [
    "def getdf_meanstd(fname):\n",
    "    print(fname)\n",
    "    df = pd.read_csv('./data/' + fname + '.csv')\n",
    "    df = df[:-1]\n",
    "    return get_mean_std(df['Obs'])\n",
    "\n",
    "resultarray = []\n",
    "for i in range(1,8):\n",
    "    resultarray.append(getdf_meanstd('table' + str(i)))\n",
    "    \n",
    "resultarray"
   ]
  }
 ],
 "metadata": {
  "kernelspec": {
   "display_name": "Python 3",
   "language": "python",
   "name": "python3"
  },
  "language_info": {
   "codemirror_mode": {
    "name": "ipython",
    "version": 3
   },
   "file_extension": ".py",
   "mimetype": "text/x-python",
   "name": "python",
   "nbconvert_exporter": "python",
   "pygments_lexer": "ipython3",
   "version": "3.7.3"
  }
 },
 "nbformat": 4,
 "nbformat_minor": 2
}
