{
 "cells": [
  {
   "cell_type": "code",
   "execution_count": 2,
   "metadata": {},
   "outputs": [],
   "source": [
    "import openmatrix as omx\n",
    "import numpy as np\n",
    "import pandas as pd\n",
    "\n",
    "\n",
    "# myfile = omx.open_file('skim_CH1903_LV03.omx')\n",
    "\n",
    "# print ('Shape:', myfile.shape())                 # (100,100)\n",
    "# print ('Number of tables:', len(myfile))         # 3\n",
    "# print ('Table names:', myfile.list_matrices())   # ['m1','m2',',m3']\n",
    "\n",
    "def save_to_csv(infile):\n",
    "    path = './data/'\n",
    "    zones = pd.read_csv(path + 'zones_V2.csv',header=None)\n",
    "    zonelist = zones[0].tolist()\n",
    "    skim = pd.read_csv(path + infile,header=None)\n",
    "    skim.columns = zonelist\n",
    "    skim.index = zonelist\n",
    "    skim.to_csv(path + infile + 'withHeaders.csv')"
   ]
  },
  {
   "cell_type": "code",
   "execution_count": 3,
   "metadata": {},
   "outputs": [],
   "source": [
    "save_to_csv('mga50full.csv')"
   ]
  },
  {
   "cell_type": "code",
   "execution_count": 3,
   "metadata": {},
   "outputs": [],
   "source": [
    "for i in range(1,6):\n",
    "    save_to_csv(\"201\" + str(i) + '.csv')"
   ]
  }
 ],
 "metadata": {
  "kernelspec": {
   "display_name": "Python 3",
   "language": "python",
   "name": "python3"
  },
  "language_info": {
   "codemirror_mode": {
    "name": "ipython",
    "version": 3
   },
   "file_extension": ".py",
   "mimetype": "text/x-python",
   "name": "python",
   "nbconvert_exporter": "python",
   "pygments_lexer": "ipython3",
   "version": "3.7.3"
  }
 },
 "nbformat": 4,
 "nbformat_minor": 2
}
