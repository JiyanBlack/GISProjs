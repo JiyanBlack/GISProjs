{
 "cells": [
  {
   "cell_type": "code",
   "execution_count": 8,
   "metadata": {},
   "outputs": [],
   "source": [
    "import shapefile\n",
    "from math import pow"
   ]
  },
  {
   "cell_type": "code",
   "execution_count": 16,
   "metadata": {},
   "outputs": [
    {
     "ename": "TypeError",
     "evalue": "expected str, bytes or os.PathLike object, not int",
     "output_type": "error",
     "traceback": [
      "\u001b[1;31m---------------------------------------------------------------------------\u001b[0m",
      "\u001b[1;31mTypeError\u001b[0m                                 Traceback (most recent call last)",
      "\u001b[1;32m<ipython-input-16-eb5d4c744110>\u001b[0m in \u001b[0;36m<module>\u001b[1;34m\u001b[0m\n\u001b[0;32m      8\u001b[0m \u001b[0mshp_folder\u001b[0m \u001b[1;33m=\u001b[0m \u001b[1;34m\"./data/\"\u001b[0m\u001b[1;33m\u001b[0m\u001b[1;33m\u001b[0m\u001b[0m\n\u001b[0;32m      9\u001b[0m \u001b[0mshpf\u001b[0m \u001b[1;33m=\u001b[0m \u001b[0mshapefile\u001b[0m\u001b[1;33m.\u001b[0m\u001b[0mReader\u001b[0m\u001b[1;33m(\u001b[0m\u001b[0mshp_folder\u001b[0m \u001b[1;33m+\u001b[0m \u001b[1;34m\"zones.shp\"\u001b[0m\u001b[1;33m)\u001b[0m\u001b[1;33m\u001b[0m\u001b[1;33m\u001b[0m\u001b[0m\n\u001b[1;32m---> 10\u001b[1;33m \u001b[0mwgs_shp\u001b[0m \u001b[1;33m=\u001b[0m \u001b[0mshapefile\u001b[0m\u001b[1;33m.\u001b[0m\u001b[0mWriter\u001b[0m\u001b[1;33m(\u001b[0m\u001b[0mshapefile\u001b[0m\u001b[1;33m.\u001b[0m\u001b[0mPOLYGON\u001b[0m\u001b[1;33m)\u001b[0m\u001b[1;33m\u001b[0m\u001b[1;33m\u001b[0m\u001b[0m\n\u001b[0m\u001b[0;32m     11\u001b[0m \u001b[1;33m\u001b[0m\u001b[0m\n\u001b[0;32m     12\u001b[0m \u001b[0mfields\u001b[0m \u001b[1;33m=\u001b[0m \u001b[0mshpf\u001b[0m\u001b[1;33m.\u001b[0m\u001b[0mfields\u001b[0m\u001b[1;33m\u001b[0m\u001b[1;33m\u001b[0m\u001b[0m\n",
      "\u001b[1;32m~\\Anaconda3\\envs\\gis\\lib\\site-packages\\shapefile.py\u001b[0m in \u001b[0;36m__init__\u001b[1;34m(self, target, shapeType, autoBalance, **kwargs)\u001b[0m\n\u001b[0;32m   1055\u001b[0m         \u001b[0mself\u001b[0m\u001b[1;33m.\u001b[0m\u001b[0mshp\u001b[0m \u001b[1;33m=\u001b[0m \u001b[0mself\u001b[0m\u001b[1;33m.\u001b[0m\u001b[0mshx\u001b[0m \u001b[1;33m=\u001b[0m \u001b[0mself\u001b[0m\u001b[1;33m.\u001b[0m\u001b[0mdbf\u001b[0m \u001b[1;33m=\u001b[0m \u001b[1;32mNone\u001b[0m\u001b[1;33m\u001b[0m\u001b[1;33m\u001b[0m\u001b[0m\n\u001b[0;32m   1056\u001b[0m         \u001b[1;32mif\u001b[0m \u001b[0mtarget\u001b[0m\u001b[1;33m:\u001b[0m\u001b[1;33m\u001b[0m\u001b[1;33m\u001b[0m\u001b[0m\n\u001b[1;32m-> 1057\u001b[1;33m             \u001b[0mself\u001b[0m\u001b[1;33m.\u001b[0m\u001b[0mshp\u001b[0m \u001b[1;33m=\u001b[0m \u001b[0mself\u001b[0m\u001b[1;33m.\u001b[0m\u001b[0m__getFileObj\u001b[0m\u001b[1;33m(\u001b[0m\u001b[0mos\u001b[0m\u001b[1;33m.\u001b[0m\u001b[0mpath\u001b[0m\u001b[1;33m.\u001b[0m\u001b[0msplitext\u001b[0m\u001b[1;33m(\u001b[0m\u001b[0mtarget\u001b[0m\u001b[1;33m)\u001b[0m\u001b[1;33m[\u001b[0m\u001b[1;36m0\u001b[0m\u001b[1;33m]\u001b[0m \u001b[1;33m+\u001b[0m \u001b[1;34m'.shp'\u001b[0m\u001b[1;33m)\u001b[0m\u001b[1;33m\u001b[0m\u001b[1;33m\u001b[0m\u001b[0m\n\u001b[0m\u001b[0;32m   1058\u001b[0m             \u001b[0mself\u001b[0m\u001b[1;33m.\u001b[0m\u001b[0mshx\u001b[0m \u001b[1;33m=\u001b[0m \u001b[0mself\u001b[0m\u001b[1;33m.\u001b[0m\u001b[0m__getFileObj\u001b[0m\u001b[1;33m(\u001b[0m\u001b[0mos\u001b[0m\u001b[1;33m.\u001b[0m\u001b[0mpath\u001b[0m\u001b[1;33m.\u001b[0m\u001b[0msplitext\u001b[0m\u001b[1;33m(\u001b[0m\u001b[0mtarget\u001b[0m\u001b[1;33m)\u001b[0m\u001b[1;33m[\u001b[0m\u001b[1;36m0\u001b[0m\u001b[1;33m]\u001b[0m \u001b[1;33m+\u001b[0m \u001b[1;34m'.shx'\u001b[0m\u001b[1;33m)\u001b[0m\u001b[1;33m\u001b[0m\u001b[1;33m\u001b[0m\u001b[0m\n\u001b[0;32m   1059\u001b[0m             \u001b[0mself\u001b[0m\u001b[1;33m.\u001b[0m\u001b[0mdbf\u001b[0m \u001b[1;33m=\u001b[0m \u001b[0mself\u001b[0m\u001b[1;33m.\u001b[0m\u001b[0m__getFileObj\u001b[0m\u001b[1;33m(\u001b[0m\u001b[0mos\u001b[0m\u001b[1;33m.\u001b[0m\u001b[0mpath\u001b[0m\u001b[1;33m.\u001b[0m\u001b[0msplitext\u001b[0m\u001b[1;33m(\u001b[0m\u001b[0mtarget\u001b[0m\u001b[1;33m)\u001b[0m\u001b[1;33m[\u001b[0m\u001b[1;36m0\u001b[0m\u001b[1;33m]\u001b[0m \u001b[1;33m+\u001b[0m \u001b[1;34m'.dbf'\u001b[0m\u001b[1;33m)\u001b[0m\u001b[1;33m\u001b[0m\u001b[1;33m\u001b[0m\u001b[0m\n",
      "\u001b[1;32m~\\Anaconda3\\envs\\gis\\lib\\ntpath.py\u001b[0m in \u001b[0;36msplitext\u001b[1;34m(p)\u001b[0m\n\u001b[0;32m    200\u001b[0m \u001b[1;33m\u001b[0m\u001b[0m\n\u001b[0;32m    201\u001b[0m \u001b[1;32mdef\u001b[0m \u001b[0msplitext\u001b[0m\u001b[1;33m(\u001b[0m\u001b[0mp\u001b[0m\u001b[1;33m)\u001b[0m\u001b[1;33m:\u001b[0m\u001b[1;33m\u001b[0m\u001b[1;33m\u001b[0m\u001b[0m\n\u001b[1;32m--> 202\u001b[1;33m     \u001b[0mp\u001b[0m \u001b[1;33m=\u001b[0m \u001b[0mos\u001b[0m\u001b[1;33m.\u001b[0m\u001b[0mfspath\u001b[0m\u001b[1;33m(\u001b[0m\u001b[0mp\u001b[0m\u001b[1;33m)\u001b[0m\u001b[1;33m\u001b[0m\u001b[1;33m\u001b[0m\u001b[0m\n\u001b[0m\u001b[0;32m    203\u001b[0m     \u001b[1;32mif\u001b[0m \u001b[0misinstance\u001b[0m\u001b[1;33m(\u001b[0m\u001b[0mp\u001b[0m\u001b[1;33m,\u001b[0m \u001b[0mbytes\u001b[0m\u001b[1;33m)\u001b[0m\u001b[1;33m:\u001b[0m\u001b[1;33m\u001b[0m\u001b[1;33m\u001b[0m\u001b[0m\n\u001b[0;32m    204\u001b[0m         \u001b[1;32mreturn\u001b[0m \u001b[0mgenericpath\u001b[0m\u001b[1;33m.\u001b[0m\u001b[0m_splitext\u001b[0m\u001b[1;33m(\u001b[0m\u001b[0mp\u001b[0m\u001b[1;33m,\u001b[0m \u001b[1;34mb'\\\\'\u001b[0m\u001b[1;33m,\u001b[0m \u001b[1;34mb'/'\u001b[0m\u001b[1;33m,\u001b[0m \u001b[1;34mb'.'\u001b[0m\u001b[1;33m)\u001b[0m\u001b[1;33m\u001b[0m\u001b[1;33m\u001b[0m\u001b[0m\n",
      "\u001b[1;31mTypeError\u001b[0m: expected str, bytes or os.PathLike object, not int"
     ]
    }
   ],
   "source": [
    "def getWKT_PRJ (epsg_code):\n",
    "    import urllib\n",
    "    wkt = urllib.urlopen(\"http://spatialreference.org/ref/epsg/{0}/prettywkt/\".format(epsg_code))\n",
    "    remove_spaces = wkt.read().replace(\" \",\"\")\n",
    "    output = remove_spaces.replace(\"\\n\", \"\")\n",
    "    return output\n",
    "\n",
    "shp_folder = \"./data/\"\n",
    "shpf = shapefile.Reader(shp_folder + \"zones.shp\")\n",
    "wgs_shp = shapefile.Writer(shapefile.POLYGON)\n",
    "\n",
    "fields = shpf.fields\n",
    "wgs_fields = wgs_shp.fields\n",
    "\n",
    "for name in fields:\n",
    "    if type(name) == \"tuple\":\n",
    "        continue\n",
    "    else:\n",
    "        args = name\n",
    "        wgs_shp.field(*args)\n",
    "\n",
    "records = shpf.records()\n",
    "\n",
    "for row in records:\n",
    "    args = row\n",
    "    wgs_shp.record(*args)"
   ]
  },
  {
   "cell_type": "code",
   "execution_count": 7,
   "metadata": {},
   "outputs": [],
   "source": [
    "\n",
    "geom = shpf.shapes()\n"
   ]
  },
  {
   "cell_type": "code",
   "execution_count": null,
   "metadata": {},
   "outputs": [],
   "source": [
    "#  public Coord transform(Coord coord) {\n",
    "#         double lonNorm = (coord.getX() * 3600.0D - 26782.5D) / 10000.0D;\n",
    "#         double latNorm = (coord.getY() * 3600.0D - 169028.66D) / 10000.0D;\n",
    "#         double CH1903X = 1200147.07D + 308807.95D * latNorm + 3745.25D * Math.pow(lonNorm, 2.0D) + 76.63D * Math.pow(latNorm, 2.0D) - 194.56D * Math.pow(lonNorm, 2.0D) * latNorm + 119.79D * Math.pow(latNorm, 3.0D);\n",
    "#         double CH1903Y = 2600072.37D + 211455.93D * lonNorm - 10938.51D * lonNorm * latNorm - 0.36D * lonNorm * Math.pow(latNorm, 2.0D) - 44.54D * Math.pow(lonNorm, 3.0D);\n",
    "\n",
    "#         try {\n",
    "#             double elevation = coord.getZ();\n",
    "#             return new Coord((double)Math.round(CH1903Y), (double)Math.round(CH1903X), elevation);\n",
    "#         } catch (Exception var13) {\n",
    "#             return new Coord((double)Math.round(CH1903Y), (double)Math.round(CH1903X));\n",
    "#         }\n",
    "#     }"
   ]
  },
  {
   "cell_type": "code",
   "execution_count": 12,
   "metadata": {},
   "outputs": [],
   "source": [
    "def transform(inputp, outputp, x,y):\n",
    "    lonNorm = (x*3600 - 26782.5) / 10000\n",
    "    latNorm = (y * 3600 - 169028.66) / 10000\n",
    "    CH1903X = 1200147.07 + 308807.95 * latNorm + 3745.25 * pow(lonNorm, 2.0) + 76.63 * pow(latNorm, 2.0) - 194.56 * pow(lonNorm, 2.0) * latNorm + 119.79 * pow(latNorm, 3.0);\n",
    "    CH1903Y = 2600072.37 + 211455.93 * lonNorm - 10938.51 * lonNorm * latNorm - 0.36 * lonNorm * pow(latNorm, 2.0) - 44.54 * pow(lonNorm, 3.0);\n",
    "    return CH1903X, CH1903Y"
   ]
  },
  {
   "cell_type": "code",
   "execution_count": 13,
   "metadata": {},
   "outputs": [
    {
     "ename": "TypeError",
     "evalue": "poly() got an unexpected keyword argument 'parts'",
     "output_type": "error",
     "traceback": [
      "\u001b[1;31m---------------------------------------------------------------------------\u001b[0m",
      "\u001b[1;31mTypeError\u001b[0m                                 Traceback (most recent call last)",
      "\u001b[1;32m<ipython-input-13-49f3f721ab96>\u001b[0m in \u001b[0;36m<module>\u001b[1;34m\u001b[0m\n\u001b[0;32m     16\u001b[0m            \u001b[0mpoly_list\u001b[0m\u001b[1;33m.\u001b[0m\u001b[0mappend\u001b[0m\u001b[1;33m(\u001b[0m\u001b[0mpoly_coord\u001b[0m\u001b[1;33m)\u001b[0m\u001b[1;33m\u001b[0m\u001b[1;33m\u001b[0m\u001b[0m\n\u001b[0;32m     17\u001b[0m        \u001b[1;31m# add the geometry to the shapefile.\u001b[0m\u001b[1;33m\u001b[0m\u001b[1;33m\u001b[0m\u001b[1;33m\u001b[0m\u001b[0m\n\u001b[1;32m---> 18\u001b[1;33m         \u001b[0mwgs_shp\u001b[0m\u001b[1;33m.\u001b[0m\u001b[0mpoly\u001b[0m\u001b[1;33m(\u001b[0m\u001b[0mparts\u001b[0m\u001b[1;33m=\u001b[0m\u001b[1;33m[\u001b[0m\u001b[0mpoly_list\u001b[0m\u001b[1;33m]\u001b[0m\u001b[1;33m)\u001b[0m\u001b[1;33m\u001b[0m\u001b[1;33m\u001b[0m\u001b[0m\n\u001b[0m\u001b[0;32m     19\u001b[0m \u001b[1;32melse\u001b[0m\u001b[1;33m:\u001b[0m\u001b[1;33m\u001b[0m\u001b[1;33m\u001b[0m\u001b[0m\n\u001b[0;32m     20\u001b[0m     \u001b[1;31m# append the total amount of points to the end of the parts list\u001b[0m\u001b[1;33m\u001b[0m\u001b[1;33m\u001b[0m\u001b[1;33m\u001b[0m\u001b[0m\n",
      "\u001b[1;31mTypeError\u001b[0m: poly() got an unexpected keyword argument 'parts'"
     ]
    }
   ],
   "source": [
    "input_projection = 1\n",
    "output_projection = 1\n",
    "for feature in geom:\n",
    "    # if there is only one part\n",
    "    if len(feature.parts) == 1:\n",
    "        # create empty list to store all the coordinates\n",
    "        poly_list = []\n",
    "        # get each coord that makes up the polygon\n",
    "        for coords in feature.points:\n",
    "           x, y = coords[0], coords[1]\n",
    "           # tranform the coord\n",
    "           new_x, new_y = transform(input_projection, output_projection, x, y)\n",
    "           # put the coord into a list structure\n",
    "           poly_coord = [float(new_x), float(new_y)]\n",
    "           # append the coords to the polygon list\n",
    "           poly_list.append(poly_coord)\n",
    "       # add the geometry to the shapefile.\n",
    "        wgs_shp.poly(parts=[poly_list])\n",
    "else:\n",
    "    # append the total amount of points to the end of the parts list\n",
    "    feature.parts.append(len(feature.points))\n",
    "    # enpty list to store all the parts that make up the complete feature\n",
    "    poly_list = []\n",
    "    # keep track of the part being added\n",
    "    parts_counter = 0\n",
    "\n",
    "    # while the parts_counter is less than the amount of parts\n",
    "    while parts_counter < len(feature.parts) - 1:\n",
    "        # keep track of the amount of points added to the feature\n",
    "        coord_count = feature.parts[parts_counter]\n",
    "        # number of points in each part\n",
    "        no_of_points = abs(feature.parts[parts_counter] - feature.parts[parts_counter + 1])\n",
    "        # create list to hold individual parts - these get added to poly_list[]\n",
    "        part_list = []\n",
    "        # cut off point for each part\n",
    "        end_point = coord_count + no_of_points\n",
    "\n",
    "        # loop through each part\n",
    "        while coord_count < end_point:\n",
    "            for coords in feature.points[coord_count:end_point]:\n",
    "                x, y = coords[0], coords[1]\n",
    "                # tranform the coord\n",
    "                new_x, new_y = transform(input_projection, output_projection, x, y)\n",
    "                # put the coord into a list structure\n",
    "                poly_coord = [float(new_x), float(new_y)]\n",
    "                # append the coords to the part list\n",
    "                part_list.append(poly_coord)\n",
    "                coord_count = coord_count + 1\n",
    "    # append the part to the poly_list\n",
    "    poly_list.append(part_list)\n",
    "    parts_counter = parts_counter + 1\n"
   ]
  },
  {
   "cell_type": "code",
   "execution_count": null,
   "metadata": {},
   "outputs": [],
   "source": [
    "# add the geometry to to new file\n",
    "wgs_shp.poly(parts=poly_list)\n",
    "\n",
    "\n",
    "wgs_shp.save(shp_folder + \"Ireland_LA_wgs.shp\")\n",
    "\n",
    "prj = open(shp_folder + \"Ireland_LA_wgs.prj\", \"w\")\n",
    "epsg = getWKT_PRJ(\"4326\")\n",
    "prj.write(epsg)\n",
    "prj.close()"
   ]
  }
 ],
 "metadata": {
  "kernelspec": {
   "display_name": "Python 3",
   "language": "python",
   "name": "python3"
  },
  "language_info": {
   "codemirror_mode": {
    "name": "ipython",
    "version": 3
   },
   "file_extension": ".py",
   "mimetype": "text/x-python",
   "name": "python",
   "nbconvert_exporter": "python",
   "pygments_lexer": "ipython3",
   "version": "3.7.3"
  }
 },
 "nbformat": 4,
 "nbformat_minor": 2
}
